{
 "cells": [
  {
   "cell_type": "markdown",
   "id": "dc5e913a",
   "metadata": {},
   "source": [
    "# Tensorflow"
   ]
  },
  {
   "cell_type": "markdown",
   "id": "07630728",
   "metadata": {},
   "source": [
    "## Import"
   ]
  },
  {
   "cell_type": "code",
   "execution_count": 1,
   "id": "f5a43883",
   "metadata": {
    "ExecuteTime": {
     "end_time": "2022-07-29T03:44:06.532538Z",
     "start_time": "2022-07-29T03:43:58.168346Z"
    }
   },
   "outputs": [
    {
     "name": "stdout",
     "output_type": "stream",
     "text": [
      "TensorFlow Version: 2.6.0\n"
     ]
    }
   ],
   "source": [
    "import tensorflow as tf\n",
    "print(f\"TensorFlow Version: {tf.__version__}\")"
   ]
  },
  {
   "cell_type": "markdown",
   "id": "8a2793d5",
   "metadata": {},
   "source": [
    "## Load Dataset"
   ]
  },
  {
   "cell_type": "code",
   "execution_count": 2,
   "id": "0fe894dc",
   "metadata": {
    "ExecuteTime": {
     "end_time": "2022-07-29T03:44:38.708442Z",
     "start_time": "2022-07-29T03:44:38.696794Z"
    }
   },
   "outputs": [],
   "source": [
    "mnist = tf.keras.datasets.mnist"
   ]
  },
  {
   "cell_type": "code",
   "execution_count": 10,
   "id": "0d5306da",
   "metadata": {
    "ExecuteTime": {
     "end_time": "2022-07-29T03:47:05.606799Z",
     "start_time": "2022-07-29T03:47:05.268128Z"
    }
   },
   "outputs": [],
   "source": [
    "(x_train, y_train), (x_test, y_test) = mnist.load_data()\n",
    "x_train = x_train / 255.0; x_test = x_test / 255.0"
   ]
  },
  {
   "cell_type": "markdown",
   "id": "f12e7dd2",
   "metadata": {},
   "source": [
    "## Build Model"
   ]
  },
  {
   "cell_type": "code",
   "execution_count": 11,
   "id": "98ea304a",
   "metadata": {
    "ExecuteTime": {
     "end_time": "2022-07-29T03:50:57.752766Z",
     "start_time": "2022-07-29T03:50:57.271678Z"
    }
   },
   "outputs": [
    {
     "name": "stderr",
     "output_type": "stream",
     "text": [
      "2022-07-28 23:50:57.347085: I tensorflow/core/common_runtime/pluggable_device/pluggable_device_factory.cc:305] Could not identify NUMA node of platform GPU ID 0, defaulting to 0. Your kernel may not have been built with NUMA support.\n",
      "2022-07-28 23:50:57.347599: I tensorflow/core/common_runtime/pluggable_device/pluggable_device_factory.cc:271] Created TensorFlow device (/job:localhost/replica:0/task:0/device:GPU:0 with 0 MB memory) -> physical PluggableDevice (device: 0, name: METAL, pci bus id: <undefined>)\n"
     ]
    },
    {
     "name": "stdout",
     "output_type": "stream",
     "text": [
      "Metal device set to: Apple M1 Pro\n"
     ]
    }
   ],
   "source": [
    "model = tf.keras.models.Sequential([\n",
    "    tf.keras.layers.Flatten(input_shape=(28,28)),\n",
    "    tf.keras.layers.Dense(128, activation='relu'),\n",
    "    tf.keras.layers.Dropout(0.2),\n",
    "    tf.keras.layers.Dense(10)\n",
    "])"
   ]
  },
  {
   "cell_type": "markdown",
   "id": "485df2cd",
   "metadata": {},
   "source": [
    "## Make Prediction"
   ]
  },
  {
   "cell_type": "code",
   "execution_count": 19,
   "id": "1c338306",
   "metadata": {
    "ExecuteTime": {
     "end_time": "2022-07-29T03:57:27.044419Z",
     "start_time": "2022-07-29T03:57:27.020712Z"
    }
   },
   "outputs": [],
   "source": [
    "predictions = model(x_train[:1]).numpy()\n",
    "probabilities = tf.nn.softmax(predictions).numpy()"
   ]
  },
  {
   "cell_type": "code",
   "execution_count": 20,
   "id": "8279860a",
   "metadata": {
    "ExecuteTime": {
     "end_time": "2022-07-29T03:57:30.384925Z",
     "start_time": "2022-07-29T03:57:30.380771Z"
    }
   },
   "outputs": [
    {
     "data": {
      "text/plain": [
       "array([[ 0.838482  , -0.3446134 , -0.36457604, -0.430825  ,  0.00931004,\n",
       "         0.23090892, -0.19045702,  0.16035506, -0.60645807, -0.29490703]],\n",
       "      dtype=float32)"
      ]
     },
     "execution_count": 20,
     "metadata": {},
     "output_type": "execute_result"
    }
   ],
   "source": [
    "predictions"
   ]
  },
  {
   "cell_type": "code",
   "execution_count": 21,
   "id": "cba060ca",
   "metadata": {
    "ExecuteTime": {
     "end_time": "2022-07-29T03:57:35.458540Z",
     "start_time": "2022-07-29T03:57:35.444451Z"
    }
   },
   "outputs": [
    {
     "data": {
      "text/plain": [
       "array([[0.2330261 , 0.07138266, 0.06997181, 0.06548646, 0.10169503,\n",
       "        0.12692258, 0.08328024, 0.1182763 , 0.05493828, 0.0750205 ]],\n",
       "      dtype=float32)"
      ]
     },
     "execution_count": 21,
     "metadata": {},
     "output_type": "execute_result"
    }
   ],
   "source": [
    "probabilities"
   ]
  },
  {
   "cell_type": "markdown",
   "id": "1bb88e40",
   "metadata": {},
   "source": [
    "## Loss Function"
   ]
  },
  {
   "cell_type": "code",
   "execution_count": 22,
   "id": "621dabf1",
   "metadata": {
    "ExecuteTime": {
     "end_time": "2022-07-29T03:58:59.045101Z",
     "start_time": "2022-07-29T03:58:59.034249Z"
    }
   },
   "outputs": [],
   "source": [
    "loss_fn = tf.keras.losses.SparseCategoricalCrossentropy(from_logits=True)"
   ]
  },
  {
   "cell_type": "code",
   "execution_count": 23,
   "id": "01ca002a",
   "metadata": {
    "ExecuteTime": {
     "end_time": "2022-07-29T03:59:39.220893Z",
     "start_time": "2022-07-29T03:59:38.901589Z"
    }
   },
   "outputs": [
    {
     "data": {
      "text/plain": [
       "2.0641778"
      ]
     },
     "execution_count": 23,
     "metadata": {},
     "output_type": "execute_result"
    }
   ],
   "source": [
    "loss_fn(y_train[:1], predictions).numpy()"
   ]
  },
  {
   "cell_type": "markdown",
   "id": "f4005a4e",
   "metadata": {},
   "source": [
    "## Model Compilation"
   ]
  },
  {
   "cell_type": "code",
   "execution_count": 24,
   "id": "6e1d6953",
   "metadata": {
    "ExecuteTime": {
     "end_time": "2022-07-29T04:01:05.283431Z",
     "start_time": "2022-07-29T04:01:05.233994Z"
    }
   },
   "outputs": [],
   "source": [
    "model.compile(\n",
    "    optimizer='adam',\n",
    "    loss=loss_fn,\n",
    "    metrics=['accuracy']\n",
    ")"
   ]
  },
  {
   "cell_type": "markdown",
   "id": "de86be19",
   "metadata": {},
   "source": [
    "## Train Model"
   ]
  },
  {
   "cell_type": "code",
   "execution_count": 25,
   "id": "ba8760c7",
   "metadata": {
    "ExecuteTime": {
     "end_time": "2022-07-29T04:02:56.116648Z",
     "start_time": "2022-07-29T04:02:04.105963Z"
    }
   },
   "outputs": [
    {
     "name": "stderr",
     "output_type": "stream",
     "text": [
      "2022-07-29 00:02:05.898190: I tensorflow/compiler/mlir/mlir_graph_optimization_pass.cc:185] None of the MLIR Optimization Passes are enabled (registered 2)\n",
      "2022-07-29 00:02:05.902172: W tensorflow/core/platform/profile_utils/cpu_utils.cc:128] Failed to get CPU frequency: 0 Hz\n",
      "2022-07-29 00:02:06.057523: I tensorflow/core/grappler/optimizers/custom_graph_optimizer_registry.cc:112] Plugin optimizer for device_type GPU is enabled.\n"
     ]
    },
    {
     "name": "stdout",
     "output_type": "stream",
     "text": [
      "Epoch 1/5\n",
      "1875/1875 [==============================] - 11s 5ms/step - loss: 0.2990 - accuracy: 0.9134\n",
      "Epoch 2/5\n",
      "1875/1875 [==============================] - 11s 6ms/step - loss: 0.1439 - accuracy: 0.9571\n",
      "Epoch 3/5\n",
      "1875/1875 [==============================] - 9s 5ms/step - loss: 0.1061 - accuracy: 0.9681\n",
      "Epoch 4/5\n",
      "1875/1875 [==============================] - 10s 5ms/step - loss: 0.0878 - accuracy: 0.9725\n",
      "Epoch 5/5\n",
      "1875/1875 [==============================] - 9s 5ms/step - loss: 0.0729 - accuracy: 0.9773\n"
     ]
    },
    {
     "data": {
      "text/plain": [
       "<keras.callbacks.History at 0x2e7cae3a0>"
      ]
     },
     "execution_count": 25,
     "metadata": {},
     "output_type": "execute_result"
    }
   ],
   "source": [
    "model.fit(x_train, y_train, epochs=5)"
   ]
  },
  {
   "cell_type": "code",
   "execution_count": 26,
   "id": "afc5f7dc",
   "metadata": {
    "ExecuteTime": {
     "end_time": "2022-07-29T04:03:35.919964Z",
     "start_time": "2022-07-29T04:03:34.702091Z"
    }
   },
   "outputs": [
    {
     "name": "stderr",
     "output_type": "stream",
     "text": [
      "2022-07-29 00:03:34.920907: I tensorflow/core/grappler/optimizers/custom_graph_optimizer_registry.cc:112] Plugin optimizer for device_type GPU is enabled.\n"
     ]
    },
    {
     "name": "stdout",
     "output_type": "stream",
     "text": [
      "313/313 - 1s - loss: 0.0752 - accuracy: 0.9780\n"
     ]
    },
    {
     "data": {
      "text/plain": [
       "[0.07520048320293427, 0.9780000448226929]"
      ]
     },
     "execution_count": 26,
     "metadata": {},
     "output_type": "execute_result"
    }
   ],
   "source": [
    "model.evaluate(x_test,  y_test, verbose=2)"
   ]
  },
  {
   "cell_type": "markdown",
   "id": "8fce4cf9",
   "metadata": {},
   "source": [
    "## Probability Model"
   ]
  },
  {
   "cell_type": "code",
   "execution_count": 27,
   "id": "5cf32569",
   "metadata": {
    "ExecuteTime": {
     "end_time": "2022-07-29T04:33:33.090449Z",
     "start_time": "2022-07-29T04:33:32.970569Z"
    }
   },
   "outputs": [],
   "source": [
    "probability_model = tf.keras.Sequential([\n",
    "    model,\n",
    "    tf.keras.layers.Softmax()\n",
    "])"
   ]
  },
  {
   "cell_type": "code",
   "execution_count": 28,
   "id": "5e8e782f",
   "metadata": {
    "ExecuteTime": {
     "end_time": "2022-07-29T04:33:43.946346Z",
     "start_time": "2022-07-29T04:33:43.598425Z"
    }
   },
   "outputs": [
    {
     "data": {
      "text/plain": [
       "<tf.Tensor: shape=(5, 10), dtype=float32, numpy=\n",
       "array([[2.41100260e-08, 2.65332201e-10, 4.95096401e-07, 2.92334407e-05,\n",
       "        5.92421043e-11, 4.25797907e-07, 1.22215097e-14, 9.99942183e-01,\n",
       "        4.17328359e-08, 2.75624934e-05],\n",
       "       [9.71936345e-08, 1.96846668e-04, 9.99791443e-01, 7.83444102e-06,\n",
       "        5.08954749e-13, 6.37407283e-08, 1.84434565e-08, 7.78923960e-15,\n",
       "        3.72787713e-06, 2.06544226e-11],\n",
       "       [2.53134651e-08, 9.99426246e-01, 1.13255766e-04, 1.96084784e-06,\n",
       "        1.26905434e-05, 7.09001415e-06, 7.72712792e-06, 2.67044787e-04,\n",
       "        1.63182092e-04, 7.62834418e-07],\n",
       "       [9.99913812e-01, 7.30796090e-10, 2.94903220e-05, 1.39797764e-08,\n",
       "        1.75768307e-07, 4.51280539e-06, 1.01499782e-05, 4.01021389e-05,\n",
       "        1.35116887e-08, 1.68966653e-06],\n",
       "       [5.38533459e-06, 7.24735871e-09, 3.65933374e-06, 1.23631011e-07,\n",
       "        9.97867525e-01, 9.33565161e-07, 6.44722195e-06, 2.26934899e-05,\n",
       "        5.48959747e-07, 2.09269579e-03]], dtype=float32)>"
      ]
     },
     "execution_count": 28,
     "metadata": {},
     "output_type": "execute_result"
    }
   ],
   "source": [
    "probability_model(x_test[:5])"
   ]
  },
  {
   "cell_type": "markdown",
   "id": "fa019a8b",
   "metadata": {},
   "source": [
    "# Time-Series Forecasting"
   ]
  },
  {
   "cell_type": "code",
   "execution_count": 115,
   "id": "0bb93aa7",
   "metadata": {
    "ExecuteTime": {
     "end_time": "2022-07-29T14:28:16.095396Z",
     "start_time": "2022-07-29T14:28:14.529054Z"
    }
   },
   "outputs": [],
   "source": [
    "import os\n",
    "import numpy as np\n",
    "import pandas as pd\n",
    "import matplotlib.pyplot as plt\n",
    "import seaborn as sns"
   ]
  },
  {
   "cell_type": "markdown",
   "id": "e4ab5505",
   "metadata": {},
   "source": [
    "## Load Dataset"
   ]
  },
  {
   "cell_type": "code",
   "execution_count": 31,
   "id": "48acecf8",
   "metadata": {
    "ExecuteTime": {
     "end_time": "2022-07-29T05:45:30.237497Z",
     "start_time": "2022-07-29T05:45:30.022127Z"
    }
   },
   "outputs": [],
   "source": [
    "zip_path = tf.keras.utils.get_file(\n",
    "    origin='https://storage.googleapis.com/tensorflow/tf-keras-datasets/jena_climate_2009_2016.csv.zip',\n",
    "    fname='jena_climate_2009_2016.csv.zip',\n",
    "    extract=True)\n",
    "csv_path, _ = os.path.splitext(zip_path)"
   ]
  },
  {
   "cell_type": "code",
   "execution_count": 89,
   "id": "c69cdf5e",
   "metadata": {
    "ExecuteTime": {
     "end_time": "2022-07-29T13:34:37.815685Z",
     "start_time": "2022-07-29T13:34:37.320491Z"
    }
   },
   "outputs": [],
   "source": [
    "df = pd.read_csv(csv_path)\n",
    "df = df[5::6]\n",
    "date_time = pd.to_datetime(df.pop('Date Time'), format='%d.%m.%Y %H:%M:%S')"
   ]
  },
  {
   "cell_type": "code",
   "execution_count": 79,
   "id": "fd9d6f2d",
   "metadata": {
    "ExecuteTime": {
     "end_time": "2022-07-29T13:28:01.090937Z",
     "start_time": "2022-07-29T13:28:00.275716Z"
    }
   },
   "outputs": [
    {
     "data": {
      "image/png": "[encoded data removed]",
      "text/plain": [
       "<Figure size 432x288 with 6 Axes>"
      ]
     },
     "metadata": {
      "filenames": {
       "image/png": "/Users/jingxin/OneDrive - CUHK-Shenzhen/Jupyter-Book/_build/jupyter_execute/tensorflow_28_0.png"
      },
      "needs_background": "light"
     },
     "output_type": "display_data"
    }
   ],
   "source": [
    "fig, axes = plt.subplots(3,2,sharex='col')\n",
    "axes[0,0].get_shared_x_axes()\n",
    "plot_cols = ['T (degC)', 'p (mbar)', 'rho (g/m**3)']\n",
    "plot_features = df[plot_cols]\n",
    "plot_features.index = date_time\n",
    "_ = plot_features.plot(subplots=True, ax=axes[:,0])\n",
    "plot_features = df[plot_cols][:480]\n",
    "plot_features.index = date_time[:480]\n",
    "_ = plot_features.plot(subplots=True, ax=axes[:,1])\n",
    "plt.tight_layout()"
   ]
  },
  {
   "cell_type": "markdown",
   "id": "8f48cfec",
   "metadata": {},
   "source": [
    "## Data Cleaning"
   ]
  },
  {
   "cell_type": "code",
   "execution_count": 93,
   "id": "010ecb26",
   "metadata": {
    "ExecuteTime": {
     "end_time": "2022-07-29T13:35:48.476406Z",
     "start_time": "2022-07-29T13:35:48.436980Z"
    }
   },
   "outputs": [],
   "source": [
    "df['wv (m/s)'].where(df['wv (m/s)']!=-9999.0, 0.0, inplace=True)\n",
    "df['max. wv (m/s)'].where(df['max. wv (m/s)']!=-9999.0, 0.0, inplace=True)"
   ]
  },
  {
   "cell_type": "markdown",
   "id": "490dc4e3",
   "metadata": {},
   "source": [
    "## Feature Engineering"
   ]
  },
  {
   "cell_type": "code",
   "execution_count": 99,
   "id": "fd2bacf7",
   "metadata": {
    "ExecuteTime": {
     "end_time": "2022-07-29T13:42:34.757515Z",
     "start_time": "2022-07-29T13:42:33.940784Z"
    }
   },
   "outputs": [
    {
     "data": {
      "image/png": "[encoded data removed]",
      "text/plain": [
       "<Figure size 432x288 with 2 Axes>"
      ]
     },
     "metadata": {
      "filenames": {
       "image/png": "/Users/jingxin/OneDrive - CUHK-Shenzhen/Jupyter-Book/_build/jupyter_execute/tensorflow_32_0.png"
      },
      "needs_background": "light"
     },
     "output_type": "display_data"
    }
   ],
   "source": [
    "plt.hist2d(df['wd (deg)'], df['wv (m/s)'], bins=(50,50), vmax=400)\n",
    "plt.colorbar()\n",
    "plt.xlabel('Wind Direction [deg]')\n",
    "plt.ylabel('Wind Velocity [m/s]')\n",
    "plt.show()"
   ]
  },
  {
   "cell_type": "markdown",
   "id": "0134c890",
   "metadata": {},
   "source": [
    "### Vectorize"
   ]
  },
  {
   "cell_type": "code",
   "execution_count": 100,
   "id": "dba723ed",
   "metadata": {
    "ExecuteTime": {
     "end_time": "2022-07-29T13:51:01.559990Z",
     "start_time": "2022-07-29T13:51:01.492661Z"
    }
   },
   "outputs": [],
   "source": [
    "wv = df.pop('wv (m/s)')\n",
    "max_wv = df.pop('max. wv (m/s)')\n",
    "\n",
    "# Convert to radians.\n",
    "wd_rad = df.pop('wd (deg)')*np.pi / 180\n",
    "\n",
    "# Calculate the wind x and y components.\n",
    "df['Wx'] = wv*np.cos(wd_rad)\n",
    "df['Wy'] = wv*np.sin(wd_rad)\n",
    "\n",
    "# Calculate the max wind x and y components.\n",
    "df['max Wx'] = max_wv*np.cos(wd_rad)\n",
    "df['max Wy'] = max_wv*np.sin(wd_rad)"
   ]
  },
  {
   "cell_type": "code",
   "execution_count": 101,
   "id": "f33be937",
   "metadata": {
    "ExecuteTime": {
     "end_time": "2022-07-29T13:51:19.462107Z",
     "start_time": "2022-07-29T13:51:19.329006Z"
    }
   },
   "outputs": [
    {
     "data": {
      "image/png": "[encoded data removed]",
      "text/plain": [
       "<Figure size 432x288 with 2 Axes>"
      ]
     },
     "metadata": {
      "filenames": {
       "image/png": "/Users/jingxin/OneDrive - CUHK-Shenzhen/Jupyter-Book/_build/jupyter_execute/tensorflow_35_0.png"
      },
      "needs_background": "light"
     },
     "output_type": "display_data"
    }
   ],
   "source": [
    "plt.hist2d(df['Wx'], df['Wy'], bins=(50, 50), vmax=400)\n",
    "plt.colorbar()\n",
    "plt.xlabel('Wind X [m/s]')\n",
    "plt.ylabel('Wind Y [m/s]')\n",
    "ax = plt.gca()\n",
    "ax.axis('tight')\n",
    "plt.show()"
   ]
  },
  {
   "cell_type": "code",
   "execution_count": 105,
   "id": "c0033095",
   "metadata": {
    "ExecuteTime": {
     "end_time": "2022-07-29T14:14:05.374326Z",
     "start_time": "2022-07-29T14:14:05.138534Z"
    }
   },
   "outputs": [],
   "source": [
    "timestamp_s = date_time.map(pd.Timestamp.timestamp)"
   ]
  },
  {
   "cell_type": "code",
   "execution_count": 108,
   "id": "cfb4030d",
   "metadata": {
    "ExecuteTime": {
     "end_time": "2022-07-29T14:19:24.551115Z",
     "start_time": "2022-07-29T14:19:24.533039Z"
    }
   },
   "outputs": [],
   "source": [
    "day = 24*60*60\n",
    "year = (365.2425)*day\n",
    "\n",
    "df['Day sin'] = np.sin(timestamp_s * (2 * np.pi / day))\n",
    "df['Day cos'] = np.cos(timestamp_s * (2 * np.pi / day))\n",
    "df['Year sin'] = np.sin(timestamp_s * (2 * np.pi / year))\n",
    "df['Year cos'] = np.cos(timestamp_s * (2 * np.pi / year))"
   ]
  },
  {
   "cell_type": "code",
   "execution_count": 109,
   "id": "67c0b895",
   "metadata": {
    "ExecuteTime": {
     "end_time": "2022-07-29T14:19:24.980684Z",
     "start_time": "2022-07-29T14:19:24.875661Z"
    }
   },
   "outputs": [
    {
     "data": {
      "image/png": "[encoded data removed]",
      "text/plain": [
       "<Figure size 432x288 with 1 Axes>"
      ]
     },
     "metadata": {
      "filenames": {
       "image/png": "/Users/jingxin/OneDrive - CUHK-Shenzhen/Jupyter-Book/_build/jupyter_execute/tensorflow_38_0.png"
      },
      "needs_background": "light"
     },
     "output_type": "display_data"
    }
   ],
   "source": [
    "plt.plot(np.array(df['Day sin'])[:25])\n",
    "plt.plot(np.array(df['Day cos'])[:25])\n",
    "plt.xlabel('Time [h]')\n",
    "plt.title('Time of day signal')\n",
    "plt.show()"
   ]
  },
  {
   "cell_type": "markdown",
   "id": "5d89afec",
   "metadata": {},
   "source": [
    "### Fast Fourier Transform"
   ]
  },
  {
   "cell_type": "code",
   "execution_count": 111,
   "id": "330278df",
   "metadata": {
    "ExecuteTime": {
     "end_time": "2022-07-29T14:19:51.048489Z",
     "start_time": "2022-07-29T14:19:50.870326Z"
    }
   },
   "outputs": [
    {
     "data": {
      "image/png": "[encoded data removed]",
      "text/plain": [
       "<Figure size 432x288 with 1 Axes>"
      ]
     },
     "metadata": {
      "filenames": {
       "image/png": "/Users/jingxin/OneDrive - CUHK-Shenzhen/Jupyter-Book/_build/jupyter_execute/tensorflow_40_0.png"
      },
      "needs_background": "light"
     },
     "output_type": "display_data"
    }
   ],
   "source": [
    "fft = tf.signal.rfft(df['T (degC)'])\n",
    "f_per_dataset = np.arange(0, len(fft))\n",
    "\n",
    "n_samples_h = len(df['T (degC)'])\n",
    "hours_per_year = 24*365.2524\n",
    "years_per_dataset = n_samples_h/(hours_per_year)\n",
    "\n",
    "f_per_year = f_per_dataset/years_per_dataset\n",
    "plt.step(f_per_year, np.abs(fft))\n",
    "plt.xscale('log')\n",
    "plt.ylim(0, 400000)\n",
    "plt.xlim([0.1, max(plt.xlim())])\n",
    "plt.xticks([1, 365.2524], labels=['1/Year', '1/day'])\n",
    "_ = plt.xlabel('Frequency (log scale)')\n",
    "plt.show()"
   ]
  },
  {
   "cell_type": "markdown",
   "id": "92652b40",
   "metadata": {},
   "source": [
    "## Split Dataset"
   ]
  },
  {
   "cell_type": "code",
   "execution_count": 112,
   "id": "e677bcc0",
   "metadata": {
    "ExecuteTime": {
     "end_time": "2022-07-29T14:22:11.541847Z",
     "start_time": "2022-07-29T14:22:11.523685Z"
    }
   },
   "outputs": [],
   "source": [
    "column_indices = {name: i for i, name in enumerate(df.columns)}\n",
    "\n",
    "n = len(df)\n",
    "train_df = df[0:int(n*0.7)]\n",
    "val_df = df[int(n*0.7):int(n*0.9)]\n",
    "test_df = df[int(n*0.9):]\n",
    "\n",
    "num_features = df.shape[1]"
   ]
  },
  {
   "cell_type": "markdown",
   "id": "cb0e0a1f",
   "metadata": {},
   "source": [
    "## Normalize Data"
   ]
  },
  {
   "cell_type": "code",
   "execution_count": 113,
   "id": "921b1019",
   "metadata": {
    "ExecuteTime": {
     "end_time": "2022-07-29T14:27:51.674624Z",
     "start_time": "2022-07-29T14:27:51.597265Z"
    }
   },
   "outputs": [],
   "source": [
    "train_mean = train_df.mean()\n",
    "train_std = train_df.std()\n",
    "\n",
    "train_df = (train_df - train_mean) / train_std\n",
    "val_df = (val_df - train_mean) / train_std\n",
    "test_df = (test_df - train_mean) / train_std"
   ]
  },
  {
   "cell_type": "code",
   "execution_count": 116,
   "id": "387129d5",
   "metadata": {
    "ExecuteTime": {
     "end_time": "2022-07-29T14:28:21.381773Z",
     "start_time": "2022-07-29T14:28:19.988038Z"
    }
   },
   "outputs": [
    {
     "data": {
      "image/png": "[encoded data removed]",
      "text/plain": [
       "<Figure size 864x432 with 1 Axes>"
      ]
     },
     "metadata": {
      "filenames": {
       "image/png": "/Users/jingxin/OneDrive - CUHK-Shenzhen/Jupyter-Book/_build/jupyter_execute/tensorflow_45_0.png"
      },
      "needs_background": "light"
     },
     "output_type": "display_data"
    }
   ],
   "source": [
    "df_std = (df - train_mean) / train_std\n",
    "df_std = df_std.melt(var_name='Column', value_name='Normalized')\n",
    "plt.figure(figsize=(12, 6))\n",
    "ax = sns.violinplot(x='Column', y='Normalized', data=df_std)\n",
    "_ = ax.set_xticklabels(df.keys(), rotation=90)"
   ]
  },
  {
   "cell_type": "code",
   "execution_count": 119,
   "id": "e1dabe7c",
   "metadata": {
    "ExecuteTime": {
     "end_time": "2022-07-29T16:04:16.178113Z",
     "start_time": "2022-07-29T16:04:16.161485Z"
    }
   },
   "outputs": [
    {
     "data": {
      "text/plain": [
       "array([0, 1, 2, 3, 4, 5, 6, 7, 8, 9])"
      ]
     },
     "execution_count": 119,
     "metadata": {},
     "output_type": "execute_result"
    }
   ],
   "source": [
    "np.arange(10)[slice(0,None)]"
   ]
  },
  {
   "cell_type": "markdown",
   "id": "ec8ec229",
   "metadata": {},
   "source": [
    "## Data Windowing"
   ]
  },
  {
   "cell_type": "code",
   "execution_count": 155,
   "id": "0f514f02",
   "metadata": {
    "ExecuteTime": {
     "end_time": "2022-07-29T18:56:29.604181Z",
     "start_time": "2022-07-29T18:56:29.581270Z"
    }
   },
   "outputs": [],
   "source": [
    "class WindowGenerator():\n",
    "    def __init__(self, input_width, label_width, shift, \n",
    "                 train_df=train_df, val_df=val_df, test_df=test_df,\n",
    "                 label_columns=None):\n",
    "        self.train_df = train_df\n",
    "        self.val_df = val_df\n",
    "        self.test_df = test_df\n",
    "        \n",
    "        self.label_columns = label_columns\n",
    "        if label_columns:\n",
    "            self.label_columns_indices = {name: i for i, name in enumerate(label_columns)}\n",
    "        self.column_indices = {name: i for i, name in enumerate(train_df.columns)}\n",
    "        \n",
    "        self.input_width = input_width\n",
    "        self.label_width = label_width\n",
    "        self.shift = shift\n",
    "        \n",
    "        self.total_window_size = input_width + shift\n",
    "        self.input_slice = slice(0, input_width)\n",
    "        self.input_indices = np.arange(self.total_window_size)[self.input_slice]\n",
    "        self.label_start = self.total_window_size - self.label_width\n",
    "        self.label_slice = slice(self.label_start, None)\n",
    "        self.label_indices = np.arange(self.total_window_size)[self.label_slice]\n",
    "        \n",
    "    def __repr__(self):\n",
    "        return '\\n'.join([\n",
    "            f\"Total window size: {self.total_window_size}\",\n",
    "            f\"Input indices: {self.input_indices}\",\n",
    "            f\"Label indices: {self.label_indices}\",\n",
    "            f\"Label column name(s): {self.label_columns}\"\n",
    "        ])"
   ]
  },
  {
   "cell_type": "code",
   "execution_count": 130,
   "id": "3d15cf88",
   "metadata": {
    "ExecuteTime": {
     "end_time": "2022-07-29T18:22:09.036224Z",
     "start_time": "2022-07-29T18:22:09.030448Z"
    }
   },
   "outputs": [
    {
     "data": {
      "text/plain": [
       "['__class__',\n",
       " '__delattr__',\n",
       " '__dict__',\n",
       " '__dir__',\n",
       " '__doc__',\n",
       " '__eq__',\n",
       " '__format__',\n",
       " '__ge__',\n",
       " '__getattribute__',\n",
       " '__gt__',\n",
       " '__hash__',\n",
       " '__init__',\n",
       " '__init_subclass__',\n",
       " '__le__',\n",
       " '__lt__',\n",
       " '__module__',\n",
       " '__ne__',\n",
       " '__new__',\n",
       " '__reduce__',\n",
       " '__reduce_ex__',\n",
       " '__repr__',\n",
       " '__setattr__',\n",
       " '__sizeof__',\n",
       " '__str__',\n",
       " '__subclasshook__',\n",
       " '__weakref__',\n",
       " 'split_window']"
      ]
     },
     "execution_count": 130,
     "metadata": {},
     "output_type": "execute_result"
    }
   ],
   "source": [
    "dir(WindowGenerator)"
   ]
  },
  {
   "cell_type": "code",
   "execution_count": 156,
   "id": "928e08a6",
   "metadata": {
    "ExecuteTime": {
     "end_time": "2022-07-29T18:56:31.735705Z",
     "start_time": "2022-07-29T18:56:31.727510Z"
    }
   },
   "outputs": [],
   "source": [
    "w = WindowGenerator(input_width=6, label_width=1, shift=1, label_columns=['T (degC)'])"
   ]
  },
  {
   "cell_type": "code",
   "execution_count": 122,
   "id": "43d871df",
   "metadata": {
    "ExecuteTime": {
     "end_time": "2022-07-29T16:10:21.652146Z",
     "start_time": "2022-07-29T16:10:21.641064Z"
    }
   },
   "outputs": [
    {
     "data": {
      "text/plain": [
       "Total window size: 48\n",
       "Input indices: [ 0  1  2  3  4  5  6  7  8  9 10 11 12 13 14 15 16 17 18 19 20 21 22 23]\n",
       "Label indices: [47]\n",
       "Label column name(s): ['T (degC)']"
      ]
     },
     "execution_count": 122,
     "metadata": {},
     "output_type": "execute_result"
    }
   ],
   "source": [
    "w"
   ]
  },
  {
   "cell_type": "code",
   "execution_count": 165,
   "id": "57686934",
   "metadata": {
    "ExecuteTime": {
     "end_time": "2022-07-29T18:57:50.943215Z",
     "start_time": "2022-07-29T18:57:50.932444Z"
    }
   },
   "outputs": [],
   "source": [
    "def split_window(self, features):\n",
    "    inputs = features[:, self.input_slice, :]\n",
    "    labels = features[:, self.label_slice, :]\n",
    "    if self.label_columns:\n",
    "        labels = tf.stack([labels[:, :, self.column_indices[name]] for name in self.label_columns], axis=-1)\n",
    "    inputs.set_shape([None, self.input_width, None])\n",
    "    labels.set_shape([None, self.label_width, None])\n",
    "    return inputs, labels\n",
    "\n",
    "WindowGenerator.split_window = split_window"
   ]
  },
  {
   "cell_type": "code",
   "execution_count": 166,
   "id": "d3e6b481",
   "metadata": {
    "ExecuteTime": {
     "end_time": "2022-07-29T18:57:51.276332Z",
     "start_time": "2022-07-29T18:57:51.257412Z"
    }
   },
   "outputs": [],
   "source": [
    "example_window = tf.stack([np.array(train_df[:w.total_window_size]),\n",
    "                           np.array(train_df[100:100+w.total_window_size]),\n",
    "                           np.array(train_df[200:200+w.total_window_size])])\n",
    "\n",
    "example_inputs, example_labels = w.split_window(example_window)\n",
    "\n",
    "w.example = example_inputs, example_labels"
   ]
  },
  {
   "cell_type": "code",
   "execution_count": 143,
   "id": "5ed7d745",
   "metadata": {
    "ExecuteTime": {
     "end_time": "2022-07-29T18:40:08.543035Z",
     "start_time": "2022-07-29T18:40:08.531122Z"
    }
   },
   "outputs": [
    {
     "data": {
      "text/plain": [
       "<tf.Tensor: shape=(3, 1, 1), dtype=float64, numpy=\n",
       "array([[[-2.11187895]],\n",
       "\n",
       "       [[-1.46022873]],\n",
       "\n",
       "       [[-1.47871527]]])>"
      ]
     },
     "execution_count": 143,
     "metadata": {},
     "output_type": "execute_result"
    }
   ],
   "source": [
    "example_labels"
   ]
  },
  {
   "cell_type": "code",
   "execution_count": 146,
   "id": "2ec777fa",
   "metadata": {
    "ExecuteTime": {
     "end_time": "2022-07-29T18:44:00.848964Z",
     "start_time": "2022-07-29T18:44:00.834476Z"
    }
   },
   "outputs": [],
   "source": []
  },
  {
   "cell_type": "code",
   "execution_count": 167,
   "id": "2a924c1c",
   "metadata": {
    "ExecuteTime": {
     "end_time": "2022-07-29T18:57:53.383970Z",
     "start_time": "2022-07-29T18:57:53.369663Z"
    }
   },
   "outputs": [],
   "source": [
    "def plot(self, model=None, plot_col='T (degC)', max_subplots=3):\n",
    "    inputs, labels = self.example\n",
    "    plt.figure(figsize=(12, 8))\n",
    "    plot_col_index = self.column_indices[plot_col]\n",
    "    max_n = min(max_subplots, len(inputs))\n",
    "    for n in range(max_n):\n",
    "        plt.subplot(max_n, 1, n+1)\n",
    "        plt.ylabel(f'{plot_col} [normed]')\n",
    "        plt.plot(self.input_indices, inputs[n, :, plot_col_index],\n",
    "                 label='Inputs', marker='.', zorder=-10)\n",
    "\n",
    "        if self.label_columns:\n",
    "            label_col_index = self.label_columns_indices.get(plot_col, None)\n",
    "        else:\n",
    "            label_col_index = plot_col_index\n",
    "\n",
    "        if label_col_index is None:\n",
    "            continue\n",
    "\n",
    "        plt.scatter(self.label_indices, labels[n, :, label_col_index],\n",
    "                    edgecolors='k', label='Labels', c='#2ca02c', s=64)\n",
    "        if model is not None:\n",
    "            predictions = model(inputs)\n",
    "            plt.scatter(self.label_indices, predictions[n, :, label_col_index],\n",
    "                      marker='X', edgecolors='k', label='Predictions',\n",
    "                      c='#ff7f0e', s=64)\n",
    "\n",
    "        if n == 0:\n",
    "            plt.legend()\n",
    "\n",
    "    plt.xlabel('Time [h]')\n",
    "    \n",
    "WindowGenerator.plot = plot"
   ]
  },
  {
   "cell_type": "code",
   "execution_count": 168,
   "id": "71999bf5",
   "metadata": {
    "ExecuteTime": {
     "end_time": "2022-07-29T18:57:53.765173Z",
     "start_time": "2022-07-29T18:57:53.534783Z"
    }
   },
   "outputs": [
    {
     "data": {
      "image/png": "[encoded data removed]",
      "text/plain": [
       "<Figure size 864x576 with 3 Axes>"
      ]
     },
     "metadata": {
      "filenames": {
       "image/png": "/Users/jingxin/OneDrive - CUHK-Shenzhen/Jupyter-Book/_build/jupyter_execute/tensorflow_57_0.png"
      },
      "needs_background": "light"
     },
     "output_type": "display_data"
    }
   ],
   "source": [
    "w.plot()"
   ]
  },
  {
   "cell_type": "code",
   "execution_count": 169,
   "id": "fe2f2e93",
   "metadata": {
    "ExecuteTime": {
     "end_time": "2022-07-29T19:00:50.779782Z",
     "start_time": "2022-07-29T19:00:50.609545Z"
    }
   },
   "outputs": [
    {
     "data": {
      "image/png": "[encoded data removed]",
      "text/plain": [
       "<Figure size 864x576 with 3 Axes>"
      ]
     },
     "metadata": {
      "filenames": {
       "image/png": "/Users/jingxin/OneDrive - CUHK-Shenzhen/Jupyter-Book/_build/jupyter_execute/tensorflow_58_0.png"
      },
      "needs_background": "light"
     },
     "output_type": "display_data"
    }
   ],
   "source": [
    "w.plot(plot_col='p (mbar)')"
   ]
  },
  {
   "cell_type": "code",
   "execution_count": 170,
   "id": "84879c1d",
   "metadata": {
    "ExecuteTime": {
     "end_time": "2022-07-29T19:12:00.768529Z",
     "start_time": "2022-07-29T19:12:00.738144Z"
    }
   },
   "outputs": [],
   "source": [
    "def make_dataset(self, data):\n",
    "    data = np.array(data, dtype=np.float32)\n",
    "    ds = tf.keras.utils.timeseries_dataset_from_array(\n",
    "        data=data,\n",
    "        targets=None,\n",
    "        sequence_length=self.total_window_size,\n",
    "        sequence_stride=1,\n",
    "        shuffle=True,\n",
    "        batch_size=32,)\n",
    "\n",
    "    ds = ds.map(self.split_window)\n",
    "\n",
    "    return ds\n",
    "\n",
    "WindowGenerator.make_dataset = make_dataset"
   ]
  },
  {
   "cell_type": "code",
   "execution_count": 171,
   "id": "41067a77",
   "metadata": {
    "ExecuteTime": {
     "end_time": "2022-07-29T19:14:41.026042Z",
     "start_time": "2022-07-29T19:14:41.013513Z"
    }
   },
   "outputs": [],
   "source": [
    "@property\n",
    "def train(self):\n",
    "    return self.make_dataset(self.train_df)\n",
    "\n",
    "@property\n",
    "def val(self):\n",
    "    return self.make_dataset(self.val_df)\n",
    "\n",
    "@property\n",
    "def test(self):\n",
    "    return self.make_dataset(self.test_df)\n",
    "\n",
    "@property\n",
    "def example(self):\n",
    "    \"\"\"Get and cache an example batch of `inputs, labels` for plotting.\"\"\"\n",
    "    result = getattr(self, '_example', None)\n",
    "    if result is None:\n",
    "        # No example batch was found, so get one from the `.train` dataset\n",
    "        result = next(iter(self.train))\n",
    "        # And cache it for next time\n",
    "        self._example = result\n",
    "    return result\n",
    "\n",
    "WindowGenerator.train = train\n",
    "WindowGenerator.val = val\n",
    "WindowGenerator.test = test\n",
    "WindowGenerator.example = example"
   ]
  },
  {
   "cell_type": "code",
   "execution_count": 172,
   "id": "5610be1b",
   "metadata": {
    "ExecuteTime": {
     "end_time": "2022-07-29T19:15:13.182223Z",
     "start_time": "2022-07-29T19:15:12.784913Z"
    }
   },
   "outputs": [
    {
     "data": {
      "text/plain": [
       "(TensorSpec(shape=(None, 6, 19), dtype=tf.float32, name=None),\n",
       " TensorSpec(shape=(None, 1, 1), dtype=tf.float32, name=None))"
      ]
     },
     "execution_count": 172,
     "metadata": {},
     "output_type": "execute_result"
    }
   ],
   "source": [
    "w.train.element_spec"
   ]
  },
  {
   "cell_type": "code",
   "execution_count": 174,
   "id": "23e84686",
   "metadata": {
    "ExecuteTime": {
     "end_time": "2022-07-29T19:16:06.442991Z",
     "start_time": "2022-07-29T19:16:06.254263Z"
    }
   },
   "outputs": [
    {
     "name": "stdout",
     "output_type": "stream",
     "text": [
      "Inputs shape (batch, time, features): (32, 6, 19)\n",
      "Labels shape (batch, time, features): (32, 1, 1)\n"
     ]
    }
   ],
   "source": [
    "for example_inputs, example_labels in w.train.take(1):\n",
    "    print(f'Inputs shape (batch, time, features): {example_inputs.shape}')\n",
    "    print(f'Labels shape (batch, time, features): {example_labels.shape}')"
   ]
  },
  {
   "cell_type": "code",
   "execution_count": 179,
   "id": "1feec4e4",
   "metadata": {
    "ExecuteTime": {
     "end_time": "2022-07-29T19:20:06.873954Z",
     "start_time": "2022-07-29T19:20:06.791849Z"
    }
   },
   "outputs": [
    {
     "data": {
      "text/plain": [
       "<TakeDataset shapes: ((None, 6, 19), (None, 1, 1)), types: (tf.float32, tf.float32)>"
      ]
     },
     "execution_count": 179,
     "metadata": {},
     "output_type": "execute_result"
    }
   ],
   "source": [
    "w.train.take(1)"
   ]
  },
  {
   "cell_type": "markdown",
   "id": "444580be",
   "metadata": {},
   "source": [
    "## Baseline Model"
   ]
  },
  {
   "cell_type": "code",
   "execution_count": 183,
   "id": "bac70df4",
   "metadata": {
    "ExecuteTime": {
     "end_time": "2022-07-29T19:25:11.735867Z",
     "start_time": "2022-07-29T19:25:11.731128Z"
    }
   },
   "outputs": [],
   "source": [
    "class Baseline(tf.keras.Model):\n",
    "    def __init__(self, label_index=None):\n",
    "        super().__init__()\n",
    "        self.label_index = label_index\n",
    "    \n",
    "    def call(self, inputs):\n",
    "        if self.label_index is None:\n",
    "            return inputs\n",
    "        result = inputs[:, :, self.label_index]\n",
    "        return results[:, :, tf.newaxise]"
   ]
  },
  {
   "cell_type": "code",
   "execution_count": null,
   "id": "9d224419",
   "metadata": {},
   "outputs": [],
   "source": []
  }
 ],
 "metadata": {
  "kernelspec": {
   "display_name": "Python [conda env:columbia] *",
   "language": "python",
   "name": "conda-env-columbia-py"
  },
  "language_info": {
   "codemirror_mode": {
    "name": "ipython",
    "version": 3
   },
   "file_extension": ".py",
   "mimetype": "text/x-python",
   "name": "python",
   "nbconvert_exporter": "python",
   "pygments_lexer": "ipython3",
   "version": "3.8.12"
  },
  "toc": {
   "base_numbering": 1,
   "nav_menu": {},
   "number_sections": false,
   "sideBar": true,
   "skip_h1_title": false,
   "title_cell": "Table of Contents",
   "title_sidebar": "Contents",
   "toc_cell": false,
   "toc_position": {},
   "toc_section_display": true,
   "toc_window_display": false
  }
 },
 "nbformat": 4,
 "nbformat_minor": 5
}