{
 "cells": [
  {
   "cell_type": "code",
   "execution_count": 6,
   "metadata": {},
   "outputs": [],
   "source": [
    "import numpy as np"
   ]
  },
  {
   "cell_type": "code",
   "execution_count": 12,
   "metadata": {},
   "outputs": [],
   "source": [
    "def selection(pop, scores, k=3):\n",
    "    selection_ix = np.random.randint(len(pop))\n",
    "    for ix in np.random.randint(0, len(pop), k-1):\n",
    "        if scores[ix] < scores[selection_ix]:\n",
    "            selection_ix = ix\n",
    "    return pop[selection_ix]\n",
    "\n",
    "\n",
    "def crossover(p1, p2, r_cross):\n",
    "    if np.random.rand() < r_cross:\n",
    "        pt = np.random.randint(1, len(p1)-2)\n",
    "        c1 = p1[:pt] + p2[pt:]\n",
    "        c2 = p2[:pt] + p1[pt:]\n",
    "    else:\n",
    "        c1, c2 = p1.copy(), p2.copy()\n",
    "    return c1, c2\n",
    "\n",
    "\n",
    "def mutation(bitstring, r_mut):\n",
    "    for i in range(len(bitstring)):\n",
    "        if np.random.rand() < r_mut:\n",
    "            bitstring[i] = 1 - bitstring[i]\n",
    "\n",
    "\n",
    "def genetic_algorithm(objective, n_bits, n_iter, n_pop, r_cross, r_mut):\n",
    "    pop = [np.random.randint(0,2,n_bits).tolist() for _ in range(n_pop)]\n",
    "    best, best_eval = None, objective(pop[0])\n",
    "    \n",
    "    for gen in range(n_iter):\n",
    "        \n",
    "        scores = []\n",
    "        for i, gene in enumerate(pop):\n",
    "            scores.append(objective(gene))\n",
    "            if scores[-1] < best_eval:\n",
    "                best_eval = scores[-1]\n",
    "                best = gene\n",
    "        if gen % 10 == 0:\n",
    "            print(f\"{best}: {best_eval}\")\n",
    "        \n",
    "        selected = [selection(pop, scores) for _ in range(n_pop)]\n",
    "        \n",
    "        children = []\n",
    "        for i in range(0, n_pop, 2):\n",
    "            p1, p2 = selected[i], selected[i+1]\n",
    "            for c in crossover(p1, p2, r_cross):\n",
    "                mutation(c, r_mut)\n",
    "                children.append(c)\n",
    "            pop = children\n",
    "\n",
    "    return best, best_eval "
   ]
  },
  {
   "cell_type": "code",
   "execution_count": 13,
   "metadata": {},
   "outputs": [
    {
     "name": "stdout",
     "output_type": "stream",
     "text": [
      "[0, 1, 1, 1, 1, 0, 1, 1, 1, 1, 1, 1, 1, 0, 1, 1, 1, 1, 0, 0]: -15\n",
      "[1, 1, 1, 1, 1, 1, 1, 1, 1, 1, 1, 1, 1, 1, 1, 1, 1, 1, 1, 1]: -20\n",
      "[1, 1, 1, 1, 1, 1, 1, 1, 1, 1, 1, 1, 1, 1, 1, 1, 1, 1, 1, 1]: -20\n",
      "[1, 1, 1, 1, 1, 1, 1, 1, 1, 1, 1, 1, 1, 1, 1, 1, 1, 1, 1, 1]: -20\n",
      "[1, 1, 1, 1, 1, 1, 1, 1, 1, 1, 1, 1, 1, 1, 1, 1, 1, 1, 1, 1]: -20\n",
      "[1, 1, 1, 1, 1, 1, 1, 1, 1, 1, 1, 1, 1, 1, 1, 1, 1, 1, 1, 1]: -20\n",
      "[1, 1, 1, 1, 1, 1, 1, 1, 1, 1, 1, 1, 1, 1, 1, 1, 1, 1, 1, 1]: -20\n",
      "[1, 1, 1, 1, 1, 1, 1, 1, 1, 1, 1, 1, 1, 1, 1, 1, 1, 1, 1, 1]: -20\n",
      "[1, 1, 1, 1, 1, 1, 1, 1, 1, 1, 1, 1, 1, 1, 1, 1, 1, 1, 1, 1]: -20\n",
      "[1, 1, 1, 1, 1, 1, 1, 1, 1, 1, 1, 1, 1, 1, 1, 1, 1, 1, 1, 1]: -20\n"
     ]
    }
   ],
   "source": [
    "objective = lambda x: -sum(x)\n",
    "n_iter = 100\n",
    "n_bits = 20\n",
    "n_pop = 100\n",
    "r_cross = 0.9\n",
    "r_mut = 1. / n_bits\n",
    "best, score = genetic_algorithm(objective, n_bits, n_iter, n_pop, r_cross, r_mut)"
   ]
  },
  {
   "cell_type": "markdown",
   "metadata": {},
   "source": [
    "convergence criteria?"
   ]
  },
  {
   "cell_type": "code",
   "execution_count": 24,
   "metadata": {},
   "outputs": [],
   "source": [
    "def decode(bounds, n_bits, bitstring):\n",
    "    decoded = []\n",
    "    largest = 2**n_bits\n",
    "    for i in range(len(bounds)):\n",
    "        start, end = i*n_bits, (i+1)*n_bits\n",
    "        substring = bitstring[start:end]\n",
    "        chars = ''.join([str(s) for s in substring])\n",
    "        integer = int(chars, 2)\n",
    "        value = bounds[i][0] + (integer/largest)*(bounds[i][1]-bounds[i][0])\n",
    "        decoded.append(value)\n",
    "    return decoded"
   ]
  },
  {
   "cell_type": "code",
   "execution_count": 32,
   "metadata": {},
   "outputs": [],
   "source": [
    "def genetic_algorithm(objective, bounds, n_bits, n_iter, n_pop, r_cross, r_mut):\n",
    "    pop = [np.random.randint(0, 2, n_bits*len(bounds)).tolist() for _ in range(n_pop)]\n",
    "    best, best_eval = None, objective(decode(bounds, n_bits, pop[0]))\n",
    "    \n",
    "    for gen in range(n_iter):\n",
    "        \n",
    "        scores = []\n",
    "        for i, gene in enumerate(pop):\n",
    "            decoded = decode(bounds, n_bits, gene)\n",
    "            scores.append(objective(decoded))\n",
    "            if scores[-1] < best_eval:\n",
    "                best_eval = scores[-1]\n",
    "                best = decoded\n",
    "        if gen % 10 == 0:\n",
    "            print(f\"{best}: {best_eval}\")\n",
    "        \n",
    "        selected = [selection(pop, scores) for _ in range(n_pop)]\n",
    "        \n",
    "        children = []\n",
    "        for i in range(0, n_pop, 2):\n",
    "            p1, p2 = selected[i], selected[i+1]\n",
    "            for c in crossover(p1, p2, r_cross):\n",
    "                mutation(c, r_mut)\n",
    "                children.append(c)\n",
    "            pop = children\n",
    "\n",
    "    return best, best_eval "
   ]
  },
  {
   "cell_type": "code",
   "execution_count": 34,
   "metadata": {},
   "outputs": [
    {
     "name": "stdout",
     "output_type": "stream",
     "text": [
      "[-0.512542724609375, 0.1373291015625]: 0.28155932668596506\n",
      "[0.027313232421875, 0.0091552734375]: 0.0008298316970467567\n",
      "[0.005645751953125, 0.003509521484375]: 4.4191256165504456e-05\n",
      "[0.00030517578125, 0.0]: 9.313225746154785e-08\n",
      "[0.0, 0.0]: 0.0\n",
      "[0.0, 0.0]: 0.0\n",
      "[0.0, 0.0]: 0.0\n",
      "[0.0, 0.0]: 0.0\n",
      "[0.0, 0.0]: 0.0\n",
      "[0.0, 0.0]: 0.0\n"
     ]
    }
   ],
   "source": [
    "objective = lambda x: (x[0]**2+x[1]**2)\n",
    "bounds = [[-5.0, 5.0], [-5.0, 5.0]]\n",
    "n_iter = 100\n",
    "n_bits = 16\n",
    "n_pop = 100\n",
    "r_cross = 0.9\n",
    "r_mut = 1./(n_bits*len(bounds))\n",
    "best, score = genetic_algorithm(objective, bounds, n_bits, n_iter, n_pop, r_cross, r_mut)"
   ]
  }
 ],
 "metadata": {
  "kernelspec": {
   "display_name": "Python 3.9.12 ('jupyter')",
   "language": "python",
   "name": "python3"
  },
  "language_info": {
   "codemirror_mode": {
    "name": "ipython",
    "version": 3
   },
   "file_extension": ".py",
   "mimetype": "text/x-python",
   "name": "python",
   "nbconvert_exporter": "python",
   "pygments_lexer": "ipython3",
   "version": "3.9.12"
  },
  "orig_nbformat": 4,
  "vscode": {
   "interpreter": {
    "hash": "f8a6ac45cd651b541acf74859b5fadbf17aac865a9fcfb4bc6b4179e6fb87abd"
   }
  }
 },
 "nbformat": 4,
 "nbformat_minor": 2
}
